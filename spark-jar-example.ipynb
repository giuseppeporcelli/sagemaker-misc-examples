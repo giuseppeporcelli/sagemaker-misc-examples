{
 "cells": [
  {
   "cell_type": "code",
   "execution_count": null,
   "id": "1b63dfc6-864c-48b9-a348-a34b230089b0",
   "metadata": {
    "scrolled": true,
    "tags": []
   },
   "outputs": [],
   "source": [
    "# install Java\n",
    "%%sh\n",
    "mkdir -p /usr/share/man/man1\n",
    "apt update\n",
    "apt install -y gnupg2 software-properties-common\n",
    "wget -O- https://apt.corretto.aws/corretto.key | apt-key add - \n",
    "add-apt-repository 'deb https://apt.corretto.aws stable main'\n",
    "apt update\n",
    "apt install -y java-1.8.0-amazon-corretto-jdk\n",
    "export JAVA_HOME=\"/usr/lib/jvm/java-1.8.0-amazon-corretto\""
   ]
  },
  {
   "cell_type": "code",
   "execution_count": null,
   "id": "c6b81e3f-b277-4280-8b37-33afad0307e3",
   "metadata": {},
   "outputs": [],
   "source": [
    "%%writefile HW.java\n",
    "\n",
    "package com.test;\n",
    "\n",
    "public class HW {\n",
    "    public static void main(String[] args) {\n",
    "        System.out.printf(\"hello world!\");\n",
    "    }\n",
    "}"
   ]
  },
  {
   "cell_type": "code",
   "execution_count": null,
   "id": "9e3a394f-5290-451c-9306-77cf02f19531",
   "metadata": {},
   "outputs": [],
   "source": [
    "# compile\n",
    "!javac -d . HW.java"
   ]
  },
  {
   "cell_type": "code",
   "execution_count": null,
   "id": "5b02c70a-09db-4019-9bc6-986cdec2863e",
   "metadata": {},
   "outputs": [],
   "source": [
    "# test the class\n",
    "!java -cp . com.test.HW"
   ]
  },
  {
   "cell_type": "code",
   "execution_count": null,
   "id": "944d7309-faf6-4582-bf3b-fd9f42ab7f76",
   "metadata": {},
   "outputs": [],
   "source": [
    "# create JAR\n",
    "!jar cf HelloWorld.jar ./com/test/*.class"
   ]
  },
  {
   "cell_type": "code",
   "execution_count": null,
   "id": "50d77a5a-fe44-4dd2-a326-8a790b35d88e",
   "metadata": {},
   "outputs": [],
   "source": [
    "# test JAR\n",
    "!java -cp HelloWorld.jar com.test.HW"
   ]
  },
  {
   "cell_type": "code",
   "execution_count": null,
   "id": "4d16a5b2-7cc6-45a1-b6c7-df812cae8edc",
   "metadata": {},
   "outputs": [],
   "source": [
    "from sagemaker.spark.processing import SparkJarProcessor\n",
    "from sagemaker import get_execution_role\n",
    "\n",
    "role = get_execution_role()\n",
    "print(role)\n",
    "\n",
    "spark_processor = SparkJarProcessor(\n",
    "    base_job_name=\"sm-spark-java\",\n",
    "    framework_version=\"3.1\",\n",
    "    role=role,\n",
    "    instance_count=1,\n",
    "    instance_type=\"ml.m5.xlarge\",\n",
    "    max_runtime_in_seconds=1200,\n",
    ")\n",
    "\n",
    "spark_processor.run(\n",
    "    submit_app=\"./HelloWorld.jar\",\n",
    "    submit_class=\"com.test.HW\",\n",
    "    arguments=[\"--input\", \"abc\"],\n",
    "    logs=True,\n",
    ")\n"
   ]
  }
 ],
 "metadata": {
  "instance_type": "ml.t3.medium",
  "kernelspec": {
   "display_name": "Python 3 (Data Science)",
   "language": "python",
   "name": "python3__SAGEMAKER_INTERNAL__arn:aws:sagemaker:eu-west-1:470317259841:image/datascience-1.0"
  },
  "language_info": {
   "codemirror_mode": {
    "name": "ipython",
    "version": 3
   },
   "file_extension": ".py",
   "mimetype": "text/x-python",
   "name": "python",
   "nbconvert_exporter": "python",
   "pygments_lexer": "ipython3",
   "version": "3.7.10"
  }
 },
 "nbformat": 4,
 "nbformat_minor": 5
}
